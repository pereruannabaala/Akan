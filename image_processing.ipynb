{
  "nbformat": 4,
  "nbformat_minor": 0,
  "metadata": {
    "colab": {
      "provenance": [],
      "authorship_tag": "ABX9TyMJI8/IJWdp00GYcUDwlAKF",
      "include_colab_link": true
    },
    "kernelspec": {
      "name": "python3",
      "display_name": "Python 3"
    },
    "language_info": {
      "name": "python"
    }
  },
  "cells": [
    {
      "cell_type": "markdown",
      "metadata": {
        "id": "view-in-github",
        "colab_type": "text"
      },
      "source": [
        "<a href=\"https://colab.research.google.com/github/pereruannabaala/Akan/blob/main/image_processing.ipynb\" target=\"_parent\"><img src=\"https://colab.research.google.com/assets/colab-badge.svg\" alt=\"Open In Colab\"/></a>"
      ]
    },
    {
      "cell_type": "code",
      "execution_count": null,
      "metadata": {
        "colab": {
          "base_uri": "https://localhost:8080/"
        },
        "id": "4gXJbSbYERgB",
        "outputId": "fe9ec2c0-6705-4918-c55c-b347f7207a33"
      },
      "outputs": [
        {
          "output_type": "stream",
          "name": "stdout",
          "text": [
            "Hello\n",
            "Hello again!\n"
          ]
        }
      ],
      "source": [
        "print(\"Hello\"); print(\"Hello again!\")"
      ]
    },
    {
      "cell_type": "code",
      "source": [
        "import os\n",
        "import cv2\n",
        "import numpy as np\n",
        "import matplotlib.pyplot as plt\n",
        "\n",
        "from zipfile import ZipFile\n",
        "from urllib.request import urlretrieve\n",
        "\n",
        "from IPython.display import Image\n",
        "\n",
        "%matplotlib inline\n",
        "\n",
        "def download_and_unzip(url, save_path):\n",
        "    print(f\"Downloading and extracting assests....\", end=\"\")\n",
        "\n",
        "    # Downloading zip file using urllib package.\n",
        "    urlretrieve(url, save_path)\n",
        "\n",
        "    try:\n",
        "        # Extracting zip file using the zipfile package.\n",
        "        with ZipFile(save_path) as z:\n",
        "            # Extract ZIP file contents in the same directory.\n",
        "            z.extractall(os.path.split(save_path)[0])\n",
        "\n",
        "        print(\"Done\")\n",
        "\n",
        "    except Exception as e:\n",
        "        print(\"\\nInvalid file.\", e)\n",
        "\n",
        "URL = r\"https://www.dropbox.com/s/qhhlqcica1nvtaw/opencv_bootcamp_assets_NB1.zip?dl=1\"\n",
        "\n",
        "asset_zip_path = os.path.join(os.getcwd(), f\"opencv_bootcamp_assets_NB1.zip\")\n",
        "\n",
        "# Download if assest ZIP does not exists.\n",
        "if not os.path.exists(asset_zip_path):\n",
        "    download_and_unzip(URL, asset_zip_path)"
      ],
      "metadata": {
        "colab": {
          "base_uri": "https://localhost:8080/"
        },
        "id": "IuE4ehiaErwk",
        "outputId": "9ff5a6d0-e698-4c98-9441-dd04c5d1ee64"
      },
      "execution_count": null,
      "outputs": [
        {
          "output_type": "stream",
          "name": "stdout",
          "text": [
            "Downloading and extracting assests....Done\n"
          ]
        }
      ]
    },
    {
      "cell_type": "code",
      "source": [
        "# Display 18x18 pixel image\n",
        "Image(filename=\"checkerboard_18x18.png\")"
      ],
      "metadata": {
        "colab": {
          "base_uri": "https://localhost:8080/",
          "height": 35
        },
        "id": "UnlmxhbLJtt0",
        "outputId": "8c93938c-8a14-4524-e5c1-7ab84ea38d89"
      },
      "execution_count": 7,
      "outputs": [
        {
          "output_type": "execute_result",
          "data": {
            "image/png": "[encoded data removed]",
            "text/plain": [
              "<IPython.core.display.Image object>"
            ]
          },
          "metadata": {},
          "execution_count": 7
        }
      ]
    },
    {
      "cell_type": "code",
      "source": [
        "# Display 84x84 pixel image\n",
        "Image(filename=\"checkerboard_84x84.jpg\")"
      ],
      "metadata": {
        "colab": {
          "base_uri": "https://localhost:8080/",
          "height": 101
        },
        "id": "10OHMYgxKQ2c",
        "outputId": "f9893706-7aaa-4cbf-c50a-90ba024c6db8"
      },
      "execution_count": 8,
      "outputs": [
        {
          "output_type": "execute_result",
          "data": {
            "image/jpeg": "[encoded data removed]",
            "text/plain": [
              "<IPython.core.display.Image object>"
            ]
          },
          "metadata": {},
          "execution_count": 8
        }
      ]
    },
    {
      "cell_type": "code",
      "source": [
        "# Read image as gray scale\n",
        "cb_img = cv2.imread(\"checkerboard_18x18.png\",0)\n",
        "\n",
        "# Print the image data (pixel values), element of a 2D numpy array\n",
        "# Each pixel value is a 8-bits [0,255]\n",
        "print(cb_img)"
      ],
      "metadata": {
        "colab": {
          "base_uri": "https://localhost:8080/"
        },
        "id": "R68FG1Z8MHm1",
        "outputId": "4e825768-e6bb-4c00-973f-2cfbe03f9168"
      },
      "execution_count": 10,
      "outputs": [
        {
          "output_type": "stream",
          "name": "stdout",
          "text": [
            "[[  0   0   0   0   0   0 255 255 255 255 255 255   0   0   0   0   0   0]\n",
            " [  0   0   0   0   0   0 255 255 255 255 255 255   0   0   0   0   0   0]\n",
            " [  0   0   0   0   0   0 255 255 255 255 255 255   0   0   0   0   0   0]\n",
            " [  0   0   0   0   0   0 255 255 255 255 255 255   0   0   0   0   0   0]\n",
            " [  0   0   0   0   0   0 255 255 255 255 255 255   0   0   0   0   0   0]\n",
            " [  0   0   0   0   0   0 255 255 255 255 255 255   0   0   0   0   0   0]\n",
            " [255 255 255 255 255 255   0   0   0   0   0   0 255 255 255 255 255 255]\n",
            " [255 255 255 255 255 255   0   0   0   0   0   0 255 255 255 255 255 255]\n",
            " [255 255 255 255 255 255   0   0   0   0   0   0 255 255 255 255 255 255]\n",
            " [255 255 255 255 255 255   0   0   0   0   0   0 255 255 255 255 255 255]\n",
            " [255 255 255 255 255 255   0   0   0   0   0   0 255 255 255 255 255 255]\n",
            " [255 255 255 255 255 255   0   0   0   0   0   0 255 255 255 255 255 255]\n",
            " [  0   0   0   0   0   0 255 255 255 255 255 255   0   0   0   0   0   0]\n",
            " [  0   0   0   0   0   0 255 255 255 255 255 255   0   0   0   0   0   0]\n",
            " [  0   0   0   0   0   0 255 255 255 255 255 255   0   0   0   0   0   0]\n",
            " [  0   0   0   0   0   0 255 255 255 255 255 255   0   0   0   0   0   0]\n",
            " [  0   0   0   0   0   0 255 255 255 255 255 255   0   0   0   0   0   0]\n",
            " [  0   0   0   0   0   0 255 255 255 255 255 255   0   0   0   0   0   0]]\n"
          ]
        }
      ]
    },
    {
      "cell_type": "code",
      "source": [
        "!git clone https://github.com/pereruannabaala/Image_Processing.git"
      ],
      "metadata": {
        "colab": {
          "base_uri": "https://localhost:8080/"
        },
        "id": "LJ2znjz1Puq8",
        "outputId": "c084dd8d-e7eb-4e0d-fa02-daf30afb331b"
      },
      "execution_count": 12,
      "outputs": [
        {
          "output_type": "stream",
          "name": "stdout",
          "text": [
            "Cloning into 'Image_Processing'...\n",
            "warning: You appear to have cloned an empty repository.\n"
          ]
        }
      ]
    },
    {
      "cell_type": "code",
      "source": [
        "cd Image_Processing"
      ],
      "metadata": {
        "colab": {
          "base_uri": "https://localhost:8080/"
        },
        "id": "fobHec-aROUK",
        "outputId": "cd4beb9c-2f9e-4078-d48d-d6edf9f1647a"
      },
      "execution_count": 13,
      "outputs": [
        {
          "output_type": "stream",
          "name": "stdout",
          "text": [
            "/content/Image_Processing\n"
          ]
        }
      ]
    },
    {
      "cell_type": "code",
      "source": [
        "with open(\"image_manipulation.py\", \"w\") as f:\n",
        "  f.write(\"print('Hello from Google Colab!')\")"
      ],
      "metadata": {
        "id": "IFW5gG3JSPKo"
      },
      "execution_count": 14,
      "outputs": []
    },
    {
      "cell_type": "code",
      "source": [
        "!git config --global user.email \"pereruannabaala@gmail.com\""
      ],
      "metadata": {
        "id": "J-MBF1t1UiWz"
      },
      "execution_count": 16,
      "outputs": []
    },
    {
      "cell_type": "code",
      "source": [
        "!git config --global user.name \"pereruannabaala\""
      ],
      "metadata": {
        "id": "2Olr-J0cUxvj"
      },
      "execution_count": 17,
      "outputs": []
    },
    {
      "cell_type": "code",
      "source": [
        "!git add .\n"
      ],
      "metadata": {
        "id": "U6-2D-1uU5c8"
      },
      "execution_count": null,
      "outputs": []
    }
  ]
}